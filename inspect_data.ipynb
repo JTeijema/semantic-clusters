{
 "cells": [
  {
   "cell_type": "markdown",
   "metadata": {},
   "source": [
    "# Inspect Data"
   ]
  },
  {
   "cell_type": "markdown",
   "metadata": {},
   "source": [
    "This is a small-scale notebook dedicated to investigating the optimal way to read, save and write the CORD-19 dataset for reusability."
   ]
  },
  {
   "cell_type": "code",
   "execution_count": null,
   "metadata": {},
   "outputs": [],
   "source": [
    "# imports\n",
    "# Numerical / data munging\n",
    "import numpy as np\n",
    "import pandas as pd\n",
    "\n",
    "# system stuff\n",
    "import os\n",
    "import sys\n",
    "import json"
   ]
  },
  {
   "cell_type": "code",
   "execution_count": null,
   "metadata": {},
   "outputs": [],
   "source": [
    "cord19_path = os.path.join(\"data\", \"cord19.json\")\n",
    "with open(cord19_path) as json_file:\n",
    "    data = json.load(json_file)\n",
    "    print(type(data))"
   ]
  },
  {
   "cell_type": "code",
   "execution_count": null,
   "metadata": {},
   "outputs": [],
   "source": [
    "for i, (key,val) in enumerate(data.items()):\n",
    "    #print(key)\n",
    "    #if i > 10:\n",
    "        #break\n",
    "    if len(val) > 1:\n",
    "        print(key)\n",
    "        print(val)"
   ]
  },
  {
   "cell_type": "code",
   "execution_count": null,
   "metadata": {},
   "outputs": [],
   "source": [
    "data['ug7v899j'][0]['title']\n",
    "len(data['ug7v899j'])"
   ]
  },
  {
   "cell_type": "code",
   "execution_count": null,
   "metadata": {},
   "outputs": [],
   "source": []
  }
 ],
 "metadata": {
  "kernelspec": {
   "display_name": "Python 3.6.9 64-bit",
   "language": "python",
   "name": "python36964bit26fe9501e8bb4cb6b5e5f9775ab83204"
  },
  "language_info": {
   "codemirror_mode": {
    "name": "ipython",
    "version": 3
   },
   "file_extension": ".py",
   "mimetype": "text/x-python",
   "name": "python",
   "nbconvert_exporter": "python",
   "pygments_lexer": "ipython3",
   "version": "3.6.9"
  }
 },
 "nbformat": 4,
 "nbformat_minor": 4
}
